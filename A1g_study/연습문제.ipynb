{
 "cells": [
  {
   "cell_type": "markdown",
   "id": "c24c5a2b",
   "metadata": {},
   "source": [
    "# 알고리즘 스터디 연습문제\n",
    "(모범답안 아님, 그냥 이런 풀이도 있다 정도)"
   ]
  },
  {
   "cell_type": "markdown",
   "id": "f0275d61",
   "metadata": {},
   "source": [
    "## 1. 파이썬 문법"
   ]
  },
  {
   "cell_type": "markdown",
   "id": "7424dfde",
   "metadata": {},
   "source": [
    "### 리스트\n",
    "\n",
    "다음 소스 코드를 완성하여 리스트 a에 들어있는 문자열 중에서 길이가 5인 것들만 리스트 형태로 출력되게 만드세요(리스트 표현식 사용).\n",
    "\n",
    "```python\n",
    "a = ['alpha', 'bravo', 'charlie', 'delta', 'echo', 'foxtrot', 'golf', 'hotel', 'india']\n",
    "b = [                           ]\n",
    " \n",
    "print(b)\n",
    "```\n",
    "\n",
    "- 해설\n",
    "\n",
    "  - 리스트 a에서 길이가 5인 문자열만 리스트 b에 저장해야 합니다. 여기서는 b = [ ]와 같이 되어 있으므로 리스트 표현식으로 b를 만듭니다. 따라서 [ ](대괄호) 안에 i for i in a if len(i) == 5 를 넣어서 a에 들어있는 문자열을 모두 꺼낸 뒤 if 조건문으로 길이가 5인 문자열만 뽑아내면 됩니다. 이처럼 리스트 표현식은 숫자뿐만 아니라 문자열 등 다양한 요소를 처리할 수 있습니다.\n",
    "\n",
    "​\t(출처: https://dojang.io/mod/page/view.php?id=2289)"
   ]
  },
  {
   "cell_type": "code",
   "execution_count": 2,
   "id": "8410cc4d",
   "metadata": {},
   "outputs": [
    {
     "name": "stdout",
     "output_type": "stream",
     "text": [
      "['alpha', 'bravo', 'delta', 'hotel', 'india']\n"
     ]
    }
   ],
   "source": [
    "a = ['alpha', 'bravo', 'charlie', 'delta', 'echo', 'foxtrot', 'golf', 'hotel', 'india']\n",
    "b = [i for i in a if len(i) == 5]\n",
    "\n",
    "print(b)"
   ]
  },
  {
   "cell_type": "markdown",
   "id": "718393ea",
   "metadata": {},
   "source": [
    "### 딕셔너리\n",
    "\n",
    "어떤 문장을 입력 받으면 해당 문장에서 각 알파벳이 몇 개씩 나오는지 저장하는 딕셔너리를 만든 후, 아래와 같이 출력하시오.\n",
    "\n",
    "입력\n",
    "`Enter a sentence: Python is fun!`\n",
    "\n",
    "출력\n",
    "`{'!': 1, ' ': 2, 'f': 1, 'i': 1, 'h': 1, 'o': 1, 'n': 2, 'P': 1, 's': 1, 'u': 1, 't': 1, 'y':1}`\n",
    "\n",
    "\n",
    "​\t(출처: 포스코 아카데미 연습문제)"
   ]
  },
  {
   "cell_type": "code",
   "execution_count": 6,
   "id": "0a628f41",
   "metadata": {},
   "outputs": [
    {
     "name": "stdout",
     "output_type": "stream",
     "text": [
      "{'P': 1, 'y': 1, 't': 1, 'h': 1, 'o': 1, 'n': 2, ' ': 2, 'i': 1, 's': 1, 'f': 1, 'u': 1, '!': 1}\n"
     ]
    }
   ],
   "source": [
    "# sentence = input('Enter a sentence: ')\n",
    "sentence = 'Python is fun!'\n",
    "\n",
    "my_dict = dict()\n",
    "for char in sentence:\n",
    "    if char in my_dict.keys():\n",
    "        my_dict[char] += 1\n",
    "    else:\n",
    "        my_dict[char] = 1\n",
    "\n",
    "print(my_dict)"
   ]
  },
  {
   "cell_type": "markdown",
   "id": "11c360bb",
   "metadata": {},
   "source": [
    "### 문자열\n",
    "문자열 뒤집기"
   ]
  },
  {
   "cell_type": "code",
   "execution_count": 7,
   "id": "e8cca286",
   "metadata": {},
   "outputs": [
    {
     "name": "stdout",
     "output_type": "stream",
     "text": [
      "yppah"
     ]
    }
   ],
   "source": [
    "# 주어진 문자열의 마지막 문자부터 순서대로 출력\n",
    "word = 'happy'\n",
    "\n",
    "for i in range(-1, -(len(word) + 1), -1):\n",
    "    print(word[i], end = '')"
   ]
  },
  {
   "cell_type": "code",
   "execution_count": 8,
   "id": "1b0b94e1",
   "metadata": {},
   "outputs": [
    {
     "name": "stdout",
     "output_type": "stream",
     "text": [
      "yppah\n"
     ]
    }
   ],
   "source": [
    "# 주어진 문자열의 문자를 새로운 문자열의 앞쪽에 붙이기\n",
    "word = 'happy'\n",
    "new_word = ''\n",
    "\n",
    "for char in word:\n",
    "    new_word = char + new_word\n",
    "print(new_word)"
   ]
  },
  {
   "cell_type": "code",
   "execution_count": 9,
   "id": "50e968fa",
   "metadata": {},
   "outputs": [
    {
     "name": "stdout",
     "output_type": "stream",
     "text": [
      "yppah\n"
     ]
    }
   ],
   "source": [
    "# Pythonic\n",
    "word = 'happy'\n",
    "print(word[::-1])"
   ]
  },
  {
   "cell_type": "code",
   "execution_count": 11,
   "id": "5da8868e",
   "metadata": {},
   "outputs": [
    {
     "name": "stdout",
     "output_type": "stream",
     "text": [
      "yppah\n"
     ]
    }
   ],
   "source": [
    "# 내장함수 활용\n",
    "word = 'happy'\n",
    "print(''.join(list(reversed(word))))"
   ]
  },
  {
   "cell_type": "markdown",
   "id": "7c1ca1b5",
   "metadata": {},
   "source": [
    "### 조건문\n",
    "알람시계, 백준 2884번<br>\n",
    "(출처: https://www.acmicpc.net/problem/2884)"
   ]
  },
  {
   "cell_type": "code",
   "execution_count": 15,
   "id": "9556f4a9",
   "metadata": {},
   "outputs": [
    {
     "name": "stdout",
     "output_type": "stream",
     "text": [
      "0 30\n",
      "23 45\n"
     ]
    }
   ],
   "source": [
    "h, m = map(int, input().split())\n",
    "\n",
    "if m >= 45:\n",
    "    m -= 45\n",
    "    print(h, m)\n",
    "else:\n",
    "    if h == 0:\n",
    "        h = 23\n",
    "        m += 15\n",
    "        print(h, m)\n",
    "    else:\n",
    "        h -= 1\n",
    "        m += 15\n",
    "        print(h, m)"
   ]
  },
  {
   "cell_type": "markdown",
   "id": "7764a7d0",
   "metadata": {},
   "source": [
    "### 반복문\n",
    "기찍 N, 백준 2742번\n",
    "(출처: https://www.acmicpc.net/problem/2742)"
   ]
  },
  {
   "cell_type": "code",
   "execution_count": 16,
   "id": "c82e7119",
   "metadata": {},
   "outputs": [
    {
     "name": "stdout",
     "output_type": "stream",
     "text": [
      "10\n",
      "10\n",
      "9\n",
      "8\n",
      "7\n",
      "6\n",
      "5\n",
      "4\n",
      "3\n",
      "2\n",
      "1\n"
     ]
    }
   ],
   "source": [
    "# for\n",
    "n = int(input())\n",
    "for i in range(n, 0, -1):\n",
    "    print(i)"
   ]
  },
  {
   "cell_type": "code",
   "execution_count": 17,
   "id": "af89ecc9",
   "metadata": {},
   "outputs": [
    {
     "name": "stdout",
     "output_type": "stream",
     "text": [
      "10\n",
      "10\n",
      "9\n",
      "8\n",
      "7\n",
      "6\n",
      "5\n",
      "4\n",
      "3\n",
      "2\n",
      "1\n"
     ]
    }
   ],
   "source": [
    "# while\n",
    "n = int(input())\n",
    "while n:\n",
    "    print(n)\n",
    "    n -= 1"
   ]
  },
  {
   "cell_type": "markdown",
   "id": "b264f8c0",
   "metadata": {},
   "source": [
    "### 함수\n",
    "한수, 백준 1065번 (출처: https://www.acmicpc.net/problem/1065)"
   ]
  },
  {
   "cell_type": "code",
   "execution_count": 2,
   "id": "3584554a",
   "metadata": {},
   "outputs": [
    {
     "name": "stdout",
     "output_type": "stream",
     "text": [
      "110\n",
      "99\n"
     ]
    }
   ],
   "source": [
    "def judge(x):\n",
    "    # 100보다 작은 수는 전부 한수\n",
    "    if x < 100:\n",
    "        return True\n",
    "    \n",
    "    # 자리수를 분해해 리스트로 만들기\n",
    "    num_list = list(map(int,str(x)))\n",
    "    \n",
    "    # 만든 리스트를 순회하며 등차수열인지 확인\n",
    "    for i in range(1, len(num_list)-1):\n",
    "        # 등차가 아닌 구간이 있으면 False 반환\n",
    "        if (int(num_list[i+1]) - int(num_list[i])) != int(num_list[i]) - int(num_list[i-1]):\n",
    "            return False\n",
    "    # 등차가 아닌 구간이 한번도 없었다면 True 반환\n",
    "    return True\n",
    "\n",
    "n = int(input())\n",
    "count = 0\n",
    "for i in range(1, n+1):\n",
    "    # True가 반환되는 숫자 개수 카운트\n",
    "    # 이렇게 안하고 함수 안에서 카운트해도 됨(구글링 해보면 다 그러더라)\n",
    "    if judge(i) == True:\n",
    "        count += 1\n",
    "print(count)"
   ]
  }
 ],
 "metadata": {
  "kernelspec": {
   "display_name": "Python 3 (ipykernel)",
   "language": "python",
   "name": "python3"
  },
  "language_info": {
   "codemirror_mode": {
    "name": "ipython",
    "version": 3
   },
   "file_extension": ".py",
   "mimetype": "text/x-python",
   "name": "python",
   "nbconvert_exporter": "python",
   "pygments_lexer": "ipython3",
   "version": "3.9.9"
  },
  "toc": {
   "base_numbering": 1,
   "nav_menu": {},
   "number_sections": true,
   "sideBar": true,
   "skip_h1_title": false,
   "title_cell": "Table of Contents",
   "title_sidebar": "Contents",
   "toc_cell": false,
   "toc_position": {},
   "toc_section_display": true,
   "toc_window_display": false
  }
 },
 "nbformat": 4,
 "nbformat_minor": 5
}

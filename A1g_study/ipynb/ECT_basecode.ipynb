{
 "cells": [
  {
   "cell_type": "markdown",
   "id": "1134de31",
   "metadata": {},
   "source": [
    "# 이코테 코드"
   ]
  },
  {
   "cell_type": "markdown",
   "id": "01d00bbc",
   "metadata": {},
   "source": [
    "## DFS/BFS"
   ]
  },
  {
   "cell_type": "markdown",
   "id": "bc4a6e9b",
   "metadata": {},
   "source": [
    "### 이코테\n",
    "- dfs는 재귀, bfs는 반복 활용\n",
    "- 입력 그래프는 2차원 리스트"
   ]
  },
  {
   "cell_type": "code",
   "execution_count": 1,
   "id": "123cdb57",
   "metadata": {},
   "outputs": [],
   "source": [
    "# 예시 입력\n",
    "graph = [\n",
    "    [],\n",
    "    [2, 3, 8],\n",
    "    [1, 7],\n",
    "    [1, 4, 5],\n",
    "    [3, 5],\n",
    "    [3, 4],\n",
    "    [7],\n",
    "    [2, 6, 8],\n",
    "    [1, 7]\n",
    "]\n",
    "\n",
    "visited = [False] * 9"
   ]
  },
  {
   "cell_type": "code",
   "execution_count": 2,
   "id": "f3d54799",
   "metadata": {},
   "outputs": [],
   "source": [
    "def dfs(graph, v, visited):\n",
    "    visited[v] = True\n",
    "    print(v, end=' ')\n",
    "    \n",
    "    for i in graph[v]:\n",
    "        if not visited[i]:\n",
    "            dfs(graph, i, visited)"
   ]
  },
  {
   "cell_type": "code",
   "execution_count": 3,
   "id": "ec8e9939",
   "metadata": {},
   "outputs": [
    {
     "name": "stdout",
     "output_type": "stream",
     "text": [
      "1 2 7 6 8 3 4 5 "
     ]
    }
   ],
   "source": [
    "dfs(graph, 1, visited)"
   ]
  },
  {
   "cell_type": "code",
   "execution_count": 4,
   "id": "559a2d82",
   "metadata": {},
   "outputs": [],
   "source": [
    "from collections import deque\n",
    "\n",
    "def bfs(graph, start, visited):\n",
    "    queue = deque([start])\n",
    "    visited[start] = True\n",
    "    \n",
    "    while queue:\n",
    "        v = queue.popleft()\n",
    "        print(v, end=' ')\n",
    "        for i in graph[v]:\n",
    "            if not visited[i]:\n",
    "                queue.append(i)\n",
    "                visited[i] = True"
   ]
  },
  {
   "cell_type": "code",
   "execution_count": 5,
   "id": "3f7a5bc5",
   "metadata": {},
   "outputs": [],
   "source": [
    "# 예시 입력\n",
    "graph = [\n",
    "    [],\n",
    "    [2, 3, 8],\n",
    "    [1, 7],\n",
    "    [1, 4, 5],\n",
    "    [3, 5],\n",
    "    [3, 4],\n",
    "    [7],\n",
    "    [2, 6, 8],\n",
    "    [1, 7]\n",
    "]\n",
    "\n",
    "visited = [False] * 9"
   ]
  },
  {
   "cell_type": "code",
   "execution_count": 6,
   "id": "546c0b69",
   "metadata": {},
   "outputs": [
    {
     "name": "stdout",
     "output_type": "stream",
     "text": [
      "1 2 3 8 7 4 5 6 "
     ]
    }
   ],
   "source": [
    "bfs(graph, 1, visited)"
   ]
  },
  {
   "cell_type": "markdown",
   "id": "d421c626",
   "metadata": {},
   "source": [
    "### 갓성진\n",
    "- dfs와 bfs 모두 반복문으로 비슷한 방식\n",
    "- 입력 그래프는 딕셔너리"
   ]
  },
  {
   "cell_type": "code",
   "execution_count": 7,
   "id": "404b20bb",
   "metadata": {},
   "outputs": [],
   "source": [
    "graph = {\n",
    "    'A': ['H', 'D', 'B'],\n",
    "    'B': ['C'],\n",
    "    'D': ['G', 'E'],\n",
    "    'E': ['F'],\n",
    "    'H': ['I'],\n",
    "}"
   ]
  },
  {
   "cell_type": "code",
   "execution_count": 8,
   "id": "7f083f52",
   "metadata": {},
   "outputs": [],
   "source": [
    "def dfs(graph, root, visited):\n",
    "    stack.append(root)\n",
    "    \n",
    "    while stack:\n",
    "        now = stack.pop() # now = 'A', stack = []\n",
    "        if now not in visited:\n",
    "            visited.append(now)\n",
    "            if graph.get(now):\n",
    "                stack.extend(graph[now])"
   ]
  },
  {
   "cell_type": "code",
   "execution_count": 9,
   "id": "9d0cabe7",
   "metadata": {},
   "outputs": [
    {
     "name": "stdout",
     "output_type": "stream",
     "text": [
      "['A', 'B', 'C', 'D', 'E', 'F', 'G', 'H', 'I']\n"
     ]
    }
   ],
   "source": [
    "stack = []\n",
    "visited = []\n",
    "dfs(graph, 'A', visited)\n",
    "print(visited)"
   ]
  },
  {
   "cell_type": "code",
   "execution_count": 10,
   "id": "76eba731",
   "metadata": {},
   "outputs": [],
   "source": [
    "from collections import deque\n",
    "\n",
    "def bfs(graph, root):\n",
    "    q.append(root)\n",
    "    \n",
    "    while q:\n",
    "        now = q.popleft()\n",
    "        if now not in visited:\n",
    "            visited.append(now)\n",
    "            if graph.get(now):\n",
    "                q.extend(graph[now])"
   ]
  },
  {
   "cell_type": "code",
   "execution_count": 11,
   "id": "349a3499",
   "metadata": {},
   "outputs": [
    {
     "name": "stdout",
     "output_type": "stream",
     "text": [
      "['A', 'H', 'D', 'B', 'I', 'G', 'E', 'C', 'F']\n"
     ]
    }
   ],
   "source": [
    "q = deque()\n",
    "visited = []\n",
    "bfs(graph, 'A')\n",
    "print(visited)"
   ]
  },
  {
   "cell_type": "markdown",
   "id": "7241088a",
   "metadata": {},
   "source": [
    "## 정렬 알고리즘"
   ]
  },
  {
   "cell_type": "markdown",
   "id": "7c198bb2",
   "metadata": {},
   "source": [
    "### 선택 정렬"
   ]
  },
  {
   "cell_type": "code",
   "execution_count": 12,
   "id": "5e76aa5f",
   "metadata": {},
   "outputs": [
    {
     "data": {
      "text/plain": [
       "[3, 2, 7, 4, 6, 8, 7, 2, 8, 3]"
      ]
     },
     "execution_count": 12,
     "metadata": {},
     "output_type": "execute_result"
    }
   ],
   "source": [
    "import random\n",
    "array = [random.randint(0, 9) for _ in range(10)]\n",
    "array"
   ]
  },
  {
   "cell_type": "code",
   "execution_count": 13,
   "id": "e74f6fbe",
   "metadata": {},
   "outputs": [
    {
     "name": "stdout",
     "output_type": "stream",
     "text": [
      "[2, 2, 3, 3, 4, 6, 7, 7, 8, 8]\n"
     ]
    }
   ],
   "source": [
    "def selection_sort(input_array):\n",
    "    array = input_array[:] # 원본 리스트를 손상시키지 않고 싶어서\n",
    "    for i in range(len(array)):\n",
    "        min_index = i\n",
    "        for j in range(i + 1, len(array)):\n",
    "            if array[min_index] > array[j]:\n",
    "                min_index = j\n",
    "        array[i], array[min_index] = array[min_index], array[i]\n",
    "    \n",
    "    return array\n",
    "\n",
    "print(selection_sort(array))"
   ]
  },
  {
   "cell_type": "markdown",
   "id": "0b99bab4",
   "metadata": {},
   "source": [
    "### 삽입 정렬"
   ]
  },
  {
   "cell_type": "code",
   "execution_count": 14,
   "id": "6c18d2d5",
   "metadata": {},
   "outputs": [
    {
     "name": "stdout",
     "output_type": "stream",
     "text": [
      "[2, 2, 3, 3, 4, 6, 7, 7, 8, 8]\n"
     ]
    }
   ],
   "source": [
    "def insertion_sort(input_array):\n",
    "    array = input_array[:]\n",
    "    for i in range(1, len(array)):\n",
    "        for j in range(i, 0, -1):\n",
    "            if array[j] < array[j-1]:\n",
    "                array[j], array[j-1] = array[j-1], array[j]\n",
    "            else:\n",
    "                break\n",
    "    \n",
    "    return array\n",
    "\n",
    "print(insertion_sort(array))"
   ]
  },
  {
   "cell_type": "markdown",
   "id": "4357701a",
   "metadata": {},
   "source": [
    "### 힙 정렬"
   ]
  },
  {
   "cell_type": "code",
   "execution_count": null,
   "id": "60075a08",
   "metadata": {},
   "outputs": [],
   "source": [
    "import heapq\n",
    "\n",
    "def heapsort():\n",
    "    h = []\n",
    "    result = []\n",
    "    for value in iterable:\n",
    "        heapq.heappush(h, value)\n",
    "    \n",
    "    for i in range(len(h)):\n",
    "        result.append(heapq.heappop(h))\n",
    "    \n",
    "    return result"
   ]
  },
  {
   "cell_type": "markdown",
   "id": "f3ae620d",
   "metadata": {},
   "source": [
    "### 퀵 정렬"
   ]
  },
  {
   "cell_type": "code",
   "execution_count": 17,
   "id": "c498ee33",
   "metadata": {},
   "outputs": [
    {
     "name": "stdout",
     "output_type": "stream",
     "text": [
      "[2, 2, 3, 3, 4, 6, 7, 7, 8, 8]\n"
     ]
    }
   ],
   "source": [
    "def quick_sort(array, start, end):\n",
    "    if start >= end:\n",
    "        return\n",
    "    \n",
    "    pivot = start\n",
    "    left = start + 1\n",
    "    right = end\n",
    "    \n",
    "    while left <= right:\n",
    "        while (left <= end) and (array[left] <= array[pivot]):\n",
    "            left += 1\n",
    "            \n",
    "        while (right > start) and (array[right] >= array[pivot]):\n",
    "            right -= 1\n",
    "            \n",
    "        if left > right:\n",
    "            array[right], array[pivot] = array[pivot], array[right]\n",
    "        else:\n",
    "            array[left], array[right] = array[right], array[left]\n",
    "    \n",
    "    quick_sort(array, start, right - 1)\n",
    "    quick_sort(array, right + 1, end)"
   ]
  },
  {
   "cell_type": "code",
   "execution_count": 18,
   "id": "4344325f",
   "metadata": {},
   "outputs": [
    {
     "name": "stdout",
     "output_type": "stream",
     "text": [
      "[2, 3, 4, 4, 5, 5, 5, 7, 8, 9]\n"
     ]
    }
   ],
   "source": [
    "import random\n",
    "array = [random.randint(0, 9) for _ in range(10)]\n",
    "\n",
    "quick_sort(array, 0, len(array) - 1)\n",
    "print(array)"
   ]
  },
  {
   "cell_type": "markdown",
   "id": "f504dc8d",
   "metadata": {},
   "source": [
    "## 이진 탐색"
   ]
  },
  {
   "cell_type": "markdown",
   "id": "a41f82c0",
   "metadata": {},
   "source": [
    "### 재귀"
   ]
  },
  {
   "cell_type": "code",
   "execution_count": 1,
   "id": "23007af5",
   "metadata": {},
   "outputs": [],
   "source": [
    "def binary_search(array, target, start, end):\n",
    "    if start > end:\n",
    "        return None\n",
    "    mid = (start + end) // 2\n",
    "    \n",
    "    if array[mid] == target:\n",
    "        return mid\n",
    "    elif array[mid] > target:\n",
    "        return binary_search(array, target, start, mid - 1)\n",
    "    else:\n",
    "        return binary_search(array, target, mid + 1, end)"
   ]
  },
  {
   "cell_type": "code",
   "execution_count": 3,
   "id": "211dcca3",
   "metadata": {},
   "outputs": [
    {
     "name": "stdout",
     "output_type": "stream",
     "text": [
      "3\n"
     ]
    }
   ],
   "source": [
    "# 예시 입력\n",
    "n = 10\n",
    "target = 7\n",
    "array = [1, 3, 5, 7, 9, 11, 13, 15, 17, 19] # 정렬된 리스트여야 함\n",
    "\n",
    "result = binary_search(array, target, 0, n - 1)\n",
    "print(result)"
   ]
  },
  {
   "cell_type": "markdown",
   "id": "237601de",
   "metadata": {},
   "source": [
    "### 반복"
   ]
  },
  {
   "cell_type": "code",
   "execution_count": 6,
   "id": "c1da79f4",
   "metadata": {},
   "outputs": [],
   "source": [
    "def binary_search(array, target, start, end):\n",
    "    while start <= end:\n",
    "        mid = (start + end) // 2\n",
    "        \n",
    "        if array[mid] == target:\n",
    "            return mid\n",
    "        elif array[mid] > target:\n",
    "            end = mid - 1\n",
    "        else:\n",
    "            start = mid + 1\n",
    "    \n",
    "    return None"
   ]
  },
  {
   "cell_type": "code",
   "execution_count": 7,
   "id": "9dc20fcd",
   "metadata": {},
   "outputs": [
    {
     "name": "stdout",
     "output_type": "stream",
     "text": [
      "3\n"
     ]
    }
   ],
   "source": [
    "# 예시 입력\n",
    "n = 10\n",
    "target = 7\n",
    "array = [1, 3, 5, 7, 9, 11, 13, 15, 17, 19] # 정렬된 리스트여야 함\n",
    "\n",
    "result = binary_search(array, target, 0, n - 1)\n",
    "print(result)"
   ]
  },
  {
   "cell_type": "markdown",
   "id": "17574372",
   "metadata": {},
   "source": [
    "### 라이브러리 사용"
   ]
  },
  {
   "cell_type": "code",
   "execution_count": 8,
   "id": "d4163169",
   "metadata": {},
   "outputs": [
    {
     "name": "stdout",
     "output_type": "stream",
     "text": [
      "2\n",
      "5\n"
     ]
    }
   ],
   "source": [
    "from bisect import bisect_left, bisect_right\n",
    "\n",
    "target = 4\n",
    "array = [1,  2,  4,  4,  4,  6,  8]\n",
    "#             ↑(left)    ↑(right)\n",
    "\n",
    "print(bisect_left(array, target))\n",
    "print(bisect_right(array, target))"
   ]
  },
  {
   "cell_type": "markdown",
   "id": "2cc18d1d",
   "metadata": {},
   "source": [
    "### 응용: 값이 특정 범위에 속하는 데이터 개수 구하기"
   ]
  },
  {
   "cell_type": "code",
   "execution_count": 9,
   "id": "b37c9ffe",
   "metadata": {},
   "outputs": [],
   "source": [
    "from bisect import bisect_left, bisect_right\n",
    "\n",
    "def count_by_range(array, left_value, right_value):\n",
    "    right_index = bisect_right(array, right_value)\n",
    "    left_index = bisect_left(array, left_value)\n",
    "    \n",
    "    return right_index - left_index"
   ]
  },
  {
   "cell_type": "code",
   "execution_count": 10,
   "id": "020f07f1",
   "metadata": {},
   "outputs": [
    {
     "name": "stdout",
     "output_type": "stream",
     "text": [
      "2\n",
      "6\n"
     ]
    }
   ],
   "source": [
    "# 예시 입력\n",
    "array = [1, 2, 3, 3, 3, 3, 4, 4, 8, 9]\n",
    "\n",
    "print(count_by_range(array, 4, 4))\n",
    "print(count_by_range(array, -1, 3))"
   ]
  },
  {
   "cell_type": "markdown",
   "id": "67585518",
   "metadata": {},
   "source": [
    "## 다이나믹 프로그래밍\n",
    "### LIS"
   ]
  },
  {
   "cell_type": "code",
   "execution_count": 9,
   "id": "2f327671",
   "metadata": {},
   "outputs": [],
   "source": [
    "# 모든 0 <= j < i 에 대하여, D[i] = max(D[i], D[j]+1) if array[j] < array[i]\n",
    "def lis(array, d):\n",
    "    for i in range(1, len(array)):\n",
    "        for j in range(0, i):\n",
    "            if array[j] < array[i]:\n",
    "                d[i] = max(d[i], d[j] + 1)\n",
    "    return max(d)"
   ]
  },
  {
   "cell_type": "code",
   "execution_count": 10,
   "id": "a4ad4e22",
   "metadata": {},
   "outputs": [
    {
     "data": {
      "text/plain": [
       "5"
      ]
     },
     "execution_count": 10,
     "metadata": {},
     "output_type": "execute_result"
    }
   ],
   "source": [
    "# 예시 입력\n",
    "array = [4, 2, 5, 8, 4, 11, 15]\n",
    "d = [1] * len(array)\n",
    "\n",
    "lis(array, d)"
   ]
  },
  {
   "cell_type": "markdown",
   "id": "1f1f492b",
   "metadata": {},
   "source": [
    "## 최단경로 알고리즘\n",
    "### 다익스트라 알고리즘"
   ]
  },
  {
   "cell_type": "code",
   "execution_count": null,
   "id": "f4fdbed6",
   "metadata": {},
   "outputs": [],
   "source": [
    "# 각종 입력과 초기화\n",
    "INF = int(1e9)\n",
    "# 노드의 개수와 간선의 개수 입력\n",
    "n, m = map(int, input().split())\n",
    "# 시작 노드 번호 입력\n",
    "start = int(input())\n",
    "# 각 노드에 연결되어 있는 노드에 대한 정보를 담는 리스트\n",
    "graph = [[] for _ in range(n + 1)]\n",
    "# 방문한 적이 있는지 체크하기 위한 리스트\n",
    "visited = [False] * (n + 1)\n",
    "# 최단 거리 테이블을 모두 무한으로 초기화\n",
    "distance = [INF] * (n + 1)\n",
    "\n",
    "# 모든 간선 정보를 입력받기\n",
    "for _ in range(m):\n",
    "    a, b, c = map(int, input().split())\n",
    "    # a번 노드에서 b번 노드로 가는 비용이 c 일때\n",
    "    graph[a].append((b, c))"
   ]
  },
  {
   "cell_type": "code",
   "execution_count": null,
   "id": "5a9e0ae3",
   "metadata": {},
   "outputs": [],
   "source": [
    "# 방문하지 않은 노드 중에서, 가장 최단 거리가 짧은 노드의 번호를 반환\n",
    "def get_smallest_node():\n",
    "    min_value = INF\n",
    "    index = 0\n",
    "    for i in range(1, n+1):\n",
    "        if distance[i] < min_value and not visited[i]:\n",
    "            min_value = distance[i]\n",
    "            index = i\n",
    "    return index\n",
    "# 다익스트라 기본\n",
    "def dijkstra(start):\n",
    "    # 시작 노드에 대해서 초기화\n",
    "    distance[start] = 0\n",
    "    visited[start] = True\n",
    "    for j in graph[start]:\n",
    "        distance[j[0]] = j[1]\n",
    "    # 시작 노드를 제회한 전체 n-1개의 노드에 대해 반복\n",
    "    for i in range(n - 1):\n",
    "        # 현재 최단 거리가 가장 짧은 노드를 꺼내서 방문 처리\n",
    "        now = get_smallest_node()\n",
    "        visited[now] = True\n",
    "        # 현재 노드와 연결된 다른 노드를 확인\n",
    "        for j in graph[now]:\n",
    "            cost = distance[now] + j[1]\n",
    "            # 현재 노드를 거쳐서 다른 노드로 이동하는 거리가 더 짧은 경우\n",
    "            if cost < distance[j[0]]:\n",
    "                distance[j[0]] = cost"
   ]
  },
  {
   "cell_type": "code",
   "execution_count": null,
   "id": "09c1e43d",
   "metadata": {},
   "outputs": [],
   "source": [
    "# 함수 실행\n",
    "dijkstra(start)\n",
    "\n",
    "# 모든 노드로 가기 위한 최단 거리를 출력\n",
    "for i in range(1, n+1):\n",
    "    if distance[i] == INF:\n",
    "        print('INFINITY')\n",
    "    else:\n",
    "        print(distance[i])"
   ]
  },
  {
   "cell_type": "code",
   "execution_count": null,
   "id": "7c030529",
   "metadata": {},
   "outputs": [],
   "source": [
    "# 각종 입력과 초기화\n",
    "INF = int(1e9)\n",
    "# 노드의 개수와 간선의 개수 입력\n",
    "n, m = map(int, input().split())\n",
    "# 시작 노드 번호 입력\n",
    "start = int(input())\n",
    "# 각 노드에 연결되어 있는 노드에 대한 정보를 담는 리스트\n",
    "graph = [[] for _ in range(n + 1)]\n",
    "# 방문한 적이 있는지 체크하기 위한 리스트(visited)는 필요 없음\n",
    "# 최단 거리 테이블을 모두 무한으로 초기화\n",
    "distance = [INF] * (n + 1)\n",
    "\n",
    "# 모든 간선 정보를 입력받기\n",
    "for _ in range(m):\n",
    "    a, b, c = map(int, input().split())\n",
    "    # a번 노드에서 b번 노드로 가는 비용이 c 일때\n",
    "    graph[a].append((b, c))"
   ]
  },
  {
   "cell_type": "code",
   "execution_count": null,
   "id": "4175f5fb",
   "metadata": {},
   "outputs": [],
   "source": [
    "# 다익스트라 알고리즘 개선\n",
    "import heapq\n",
    "\n",
    "def dijkstra(start):\n",
    "    q = []\n",
    "    # 시작 노드로 가기 위한 최단 경로는 0으로 설정하여 큐에 삽입\n",
    "    heapq.heappush(q, (0, start))\n",
    "    distance[start] = 0\n",
    "    while q: # 큐가 비어있지 않다면\n",
    "        # 가장 최단 거리가 짧은 노드에 대한 정보를 꺼내\n",
    "        dist, now = heapq.heappop(q)\n",
    "        # 현재 노드가 이미 처리된 적 있는 노드라면 무시\n",
    "        if distance[now] < dist:\n",
    "            continue\n",
    "            \n",
    "        # 현재 노드와 연결된 다른 인접한 노드들을 확인\n",
    "        for i in graph[now]:\n",
    "            cost = dist + i[1]\n",
    "            # 현재 노드를 거쳐서 다른 노드로 이동하는 거리가 더 짧은 경우\n",
    "            if cost < distance[i[0]]:\n",
    "                distance[i[0]] = cost\n",
    "                heapq.heappush(q, (cost, i[0]))"
   ]
  },
  {
   "cell_type": "code",
   "execution_count": null,
   "id": "1529a8cf",
   "metadata": {},
   "outputs": [],
   "source": [
    "# 함수 실행\n",
    "dijkstra(start)\n",
    "\n",
    "# 모든 노드로 가기 위한 최단 거리를 출력\n",
    "for i in range(1, n+1):\n",
    "    if distance[i] == INF:\n",
    "        print('INFINITY')\n",
    "    else:\n",
    "        print(distance[i])"
   ]
  },
  {
   "cell_type": "markdown",
   "id": "bd4ab027",
   "metadata": {},
   "source": [
    "### 플로이드 워셜 알고리즘"
   ]
  },
  {
   "cell_type": "code",
   "execution_count": 3,
   "id": "eb14509d",
   "metadata": {},
   "outputs": [
    {
     "name": "stdout",
     "output_type": "stream",
     "text": [
      "2\n",
      "3\n"
     ]
    },
    {
     "data": {
      "text/plain": [
       "[[1000000000, 1000000000, 1000000000],\n",
       " [1000000000, 0, 1000000000],\n",
       " [1000000000, 1000000000, 0]]"
      ]
     },
     "execution_count": 3,
     "metadata": {},
     "output_type": "execute_result"
    }
   ],
   "source": [
    "INF = int(1e9)\n",
    "\n",
    "# 노드의 개수 및 간선의 개수를 입력받기\n",
    "n = int(input())\n",
    "m = int(input())\n",
    "# 2차원 리스트를 만들고 무한으로 초기화\n",
    "graph = [[INF] * (n + 1) for _ in range(n + 1)]\n",
    "\n",
    "# 자기 자신에서 자기 자신으로 가는 비용은 0으로 초기화\n",
    "for i in range(1, n + 1):\n",
    "    graph[i][i] = 0\n",
    "\n",
    "# 각 간선에 대한 정보를 입력 받아, 그 값으로 초기화\n",
    "for _ in range(m):\n",
    "    # A에서 B로 가는 비용은 C라고 설정\n",
    "    a, b, c = map(int, input().split())\n",
    "    graph[a][b] = c\n",
    "\n",
    "# 점화식에 따라 플로이드 워셜 알고리즘을 수행\n",
    "for k in range(1, n+1):\n",
    "    for i in range(1, n+1):\n",
    "        for j in range(1, n+1):\n",
    "            graph[i][j] = min(graph[i][j], graph[i][k] + graph[k][j])\n",
    "\n",
    "            \n",
    "# 수행된 결과를 출력\n",
    "for i in range(1, n+1):\n",
    "    for j in range(1, n+1):\n",
    "        # 도달할 수 없는 경우, INF라고 출력\n",
    "        if graph[i][j] == INF:\n",
    "            print('INF', end = ' ')\n",
    "        # 도달할 수 있는 경우 거리를 출력\n",
    "        else:\n",
    "            print(graph[i][j], end = ' ')\n",
    "    print()"
   ]
  },
  {
   "cell_type": "markdown",
   "id": "29102ba8",
   "metadata": {},
   "source": [
    "## 서로소 집합 자료구조"
   ]
  },
  {
   "cell_type": "code",
   "execution_count": 1,
   "id": "a0975f35",
   "metadata": {},
   "outputs": [
    {
     "name": "stdout",
     "output_type": "stream",
     "text": [
      "5 5\n"
     ]
    }
   ],
   "source": [
    "def find_parent(parent, x):\n",
    "    if parent[x] != x:\n",
    "        return find_parent(parent, parent[x])\n",
    "    return parent[x]  # 부모 테이블 값을 루트 노트로 갱신해 버려서 효율적으로 탐색(경로 압축)\n",
    "#     return x : 매번 루트 노드를 찾기 위해 재귀적으로 거슬러 올라가야 함\n",
    "\n",
    "\n",
    "def union_parent(parent, a, b):\n",
    "    a = find_parent(parent, a)\n",
    "    b = find_parent(parent, b)\n",
    "    if a < b:\n",
    "        parent[b] = a\n",
    "    else:\n",
    "        parent[a] = b\n",
    "        \n",
    "v, e = map(int, input().split())\n",
    "parent = [0] * (v + 1)\n",
    "\n",
    "for i in range(1, v + 1):\n",
    "    parentp[i] = i"
   ]
  },
  {
   "cell_type": "code",
   "execution_count": null,
   "id": "719d13c7",
   "metadata": {},
   "outputs": [],
   "source": [
    "# 유니온 연산 수행\n",
    "for i in range(e):\n",
    "    a, b = map(int, input().split())\n",
    "    union_parent(parent, a, b)\n",
    "    \n",
    "print('각 원소가 속한 집합: ', end = '')\n",
    "for i in range(1, v + 1):\n",
    "    print(find_parent(parent, i), end = ' ')\n",
    "    \n",
    "print()\n",
    "\n",
    "print('부모 테이블: ', end = '')\n",
    "for i in range(1, v + 1):\n",
    "    print(parent[i], end = ' ')"
   ]
  },
  {
   "cell_type": "code",
   "execution_count": null,
   "id": "cc942ffe",
   "metadata": {},
   "outputs": [],
   "source": [
    "cycle = False\n",
    "\n",
    "for i in range(e):\n",
    "    a, b = map(int, input().split())\n",
    "    \n",
    "    if find_parent(parent, a) == find_parent(parent, b):\n",
    "        cycle = True\n",
    "        break\n",
    "    else:\n",
    "        union_parent(parent, a, b)\n",
    "\n",
    "if cycle:\n",
    "    print('사이클이 발생했습니다.')\n",
    "else:\n",
    "    print('사이클이 발생하지 않았습니다.'')"
   ]
  },
  {
   "cell_type": "markdown",
   "id": "ec56e6b6",
   "metadata": {},
   "source": [
    "## 크루스칼 알고리즘"
   ]
  },
  {
   "cell_type": "code",
   "execution_count": 2,
   "id": "bd0f91cc",
   "metadata": {},
   "outputs": [
    {
     "name": "stdout",
     "output_type": "stream",
     "text": [
      "3 3\n",
      "1 2 1\n",
      "2 3 2\n",
      "1 3 3\n",
      "3\n"
     ]
    }
   ],
   "source": [
    "# 특정 원소가 속한 집합 찾기\n",
    "def find_parent(parend, x):\n",
    "    if parent[x] != x:\n",
    "        parent[x] = find_parent(parent, parent[x])\n",
    "    return parent[x]\n",
    "\n",
    "# 두 원소가 속한 집합을 합치기\n",
    "def union_parent(parent, a, b):\n",
    "    a = find_parent(parent, a)\n",
    "    b = find_parent(parent, b)\n",
    "    if a < b:\n",
    "        parent[b] = a\n",
    "    else:\n",
    "        parent[a] = b\n",
    "\n",
    "# 노드의 개수와 간선의 개수 입력 받기\n",
    "v, e = map(int, input().split())\n",
    "# 부모 테이블 초기화\n",
    "parent = [0] * (v + 1)\n",
    "# 간선을 담을 리스트와 최종 비용을 담을 변수\n",
    "edges = []\n",
    "result = 0\n",
    "\n",
    "# 부모 테이블상에서, 부모를 자기 자신으로 초기화\n",
    "for i in range(1, v + 1):\n",
    "    parent[i] = i\n",
    "    \n",
    "# 모든 간선에 대한 정보를 입력 받기\n",
    "for _ in range(e):\n",
    "    a, b, cost = map(int, input().split())\n",
    "    # 비용순으로 정렬하기 위해서 튜플의 첫 버냊 원소를 비용으로 설정\n",
    "    edges.append((cost, a, b))\n",
    "\n",
    "# 간선을 비용순으로 정렬\n",
    "edges.sort()\n",
    "\n",
    "# 간선을 하나씩 확인하며\n",
    "for edge in edges:\n",
    "    cost, a, b = edge\n",
    "    if find_parent(parent, a) != find_parent(parent, b):\n",
    "        union_parent(parent,a , b)\n",
    "        result += cost\n",
    "\n",
    "print(result)"
   ]
  },
  {
   "cell_type": "markdown",
   "id": "530eeb6b",
   "metadata": {},
   "source": [
    "## 위상정렬"
   ]
  },
  {
   "cell_type": "code",
   "execution_count": 6,
   "id": "ef6070f7",
   "metadata": {},
   "outputs": [
    {
     "name": "stdout",
     "output_type": "stream",
     "text": [
      "3 4 1 2\n"
     ]
    }
   ],
   "source": [
    "from collections import deque\n",
    "\n",
    "v, e = map(int, input().split())\n",
    "# 진입 차수 0으로 초기화\n",
    "indegree = [0] * (v + 1)\n",
    "graph = [[] for i in range(v + 1)]\n",
    "\n",
    "for _ in range(e):\n",
    "    a, b = map(int, input().split())\n",
    "    graph[a].append(b) # a에서 b로 이동하는 간선이 있다면\n",
    "    indegree[b] += 1   # b의 진입차수 증가\n",
    "    \n",
    "def topology_sort():\n",
    "    result = []\n",
    "    q = deque()\n",
    "    for i in range(1, v + 1):\n",
    "        if indegree[i] == 0:\n",
    "            q.append(i)\n",
    "            \n",
    "    while q:\n",
    "        now = q.popleft()\n",
    "        result.append(now)\n",
    "        \n",
    "        for i in graph[now]:\n",
    "            indegree[i] -= 1\n",
    "            if indegree[i] == 0:\n",
    "                q.append(i)\n",
    "    \n",
    "    return result\n",
    "    \n",
    "print(*topology_sort())"
   ]
  },
  {
   "cell_type": "markdown",
   "id": "f502bd7a",
   "metadata": {},
   "source": [
    "## 투 포인터"
   ]
  },
  {
   "cell_type": "code",
   "execution_count": 1,
   "id": "62577b00",
   "metadata": {},
   "outputs": [
    {
     "name": "stdout",
     "output_type": "stream",
     "text": [
      "3\n"
     ]
    }
   ],
   "source": [
    "n = 5 # 데이터의 개수\n",
    "m = 5 # 찾고자 하는 부분합\n",
    "data = [1, 2, 3, 2 ,5]\n",
    "\n",
    "count = 0\n",
    "interval_sum = 0\n",
    "end = 0\n",
    "\n",
    "for start in range(n):\n",
    "    while interval_sum < m and end < n:\n",
    "        interval_sum += data[end]\n",
    "        end += 1\n",
    "    if interval_sum == m:\n",
    "        count += 1\n",
    "    interval_sum -= data[start]\n",
    "\n",
    "print(count)"
   ]
  },
  {
   "cell_type": "code",
   "execution_count": null,
   "id": "e2e54b17",
   "metadata": {},
   "outputs": [],
   "source": []
  },
  {
   "cell_type": "markdown",
   "id": "f40d1650",
   "metadata": {},
   "source": [
    "## 트리"
   ]
  },
  {
   "cell_type": "code",
   "execution_count": 4,
   "id": "b87106c1",
   "metadata": {},
   "outputs": [
    {
     "name": "stdout",
     "output_type": "stream",
     "text": [
      "7\n",
      "A B C\n",
      "B D .\n",
      "C E F\n",
      "E . .\n",
      "F . G\n",
      "D . .\n",
      "G . .\n",
      "A B D C E F G \n",
      "D B A E C F G \n",
      "D B E G F C A "
     ]
    }
   ],
   "source": [
    "class Node:\n",
    "    def __init__(self, data, left_node, right_node):\n",
    "        self.data = data\n",
    "        self.left_node = left_node\n",
    "        self.right_node = right_node\n",
    "        \n",
    "# 전위 순회(Preorder Traversal)\n",
    "def pre_order(node):\n",
    "    print(node.data, end=' ')\n",
    "    if node.left_node != None:\n",
    "        pre_order(tree[node.left_node])\n",
    "    if node.right_node != None:\n",
    "        pre_order(tree[node.right_node])\n",
    "\n",
    "# 중위 순회(Indoder Traversal)\n",
    "def in_order(node):\n",
    "    if node.left_node != None:\n",
    "        in_order(tree[node.left_node])\n",
    "    print(node.data, end=' ')\n",
    "    if node.right_node != None:\n",
    "        in_order(tree[node.right_node])\n",
    "\n",
    "# 후위 순회(Postorder Traversal)\n",
    "def post_order(node):\n",
    "    if node.left_node != None:\n",
    "        post_order(tree[node.left_node])\n",
    "    if node.right_node != None:\n",
    "        post_order(tree[node.right_node])\n",
    "    print(node.data, end=' ')\n",
    "\n",
    "n = int(input())\n",
    "tree = {}\n",
    "\n",
    "for i in range(n):\n",
    "    data, left_node, right_node = input().split()\n",
    "    if left_node == '.':\n",
    "        left_node = None\n",
    "    if right_node == '.':\n",
    "        right_node = None\n",
    "    tree[data] = Node(data, left_node, right_node)\n",
    "\n",
    "pre_order(tree['A'])\n",
    "print()\n",
    "in_order(tree['A'])\n",
    "print()\n",
    "post_order(tree['A'])"
   ]
  },
  {
   "cell_type": "markdown",
   "id": "c3b368de",
   "metadata": {},
   "source": [
    "## 바이너리 인덱스 트리"
   ]
  },
  {
   "cell_type": "code",
   "execution_count": null,
   "id": "214c92db",
   "metadata": {},
   "outputs": [],
   "source": [
    "# 데이터의 개수(n), 변경 횟수(m), 구간 합 계산 횟수(k)\n",
    "n, m, k = map(int, input().split())\n",
    "\n",
    "# 전체 데이터의 개수는 최대 1,000,000개\n",
    "arr = [0] * (n + 1)\n",
    "tree = [0] * (n + 1)\n",
    "\n",
    "# i번째 수까지의 누적 합을 계산하는 함수\n",
    "def prefix_sum(i):\n",
    "    result = 0\n",
    "    while i > 0:\n",
    "        result += tree[i]\n",
    "        # 0이 아닌 마지막 비트만큼 빼가면서 이동\n",
    "        i -= (i & -i)\n",
    "    return result\n",
    "\n",
    "# i번째 수를 dif만큼 더하는 함수\n",
    "def update(i, dif):\n",
    "    while i <= n:\n",
    "        tree[i] += dif\n",
    "        i += (i & -i)\n",
    "        \n",
    "# start부터 end까지의 구간 합을 계산하는 함수\n",
    "def interval_sum(start, end):\n",
    "    return prefix_sum(end) - prefix_sum(start - 1)\n",
    "\n",
    "for i in rangE(1, n+1):\n",
    "    x = int(input())\n",
    "    arr[i] = x\n",
    "    update(i, x)\n",
    "    \n",
    "for i in range(m+k):\n",
    "    a, b, c = map(int, input().split())\n",
    "    # 업데이트 연산인 경우\n",
    "    if a == 1:\n",
    "        update(b, c - arr[b])\n",
    "        arr[b] = c\n",
    "    else:\n",
    "        print(interval_sum(b, c))"
   ]
  }
 ],
 "metadata": {
  "kernelspec": {
   "display_name": "Python 3 (ipykernel)",
   "language": "python",
   "name": "python3"
  },
  "language_info": {
   "codemirror_mode": {
    "name": "ipython",
    "version": 3
   },
   "file_extension": ".py",
   "mimetype": "text/x-python",
   "name": "python",
   "nbconvert_exporter": "python",
   "pygments_lexer": "ipython3",
   "version": "3.9.9"
  },
  "toc": {
   "base_numbering": 1,
   "nav_menu": {},
   "number_sections": true,
   "sideBar": true,
   "skip_h1_title": false,
   "title_cell": "Table of Contents",
   "title_sidebar": "Contents",
   "toc_cell": false,
   "toc_position": {},
   "toc_section_display": true,
   "toc_window_display": false
  }
 },
 "nbformat": 4,
 "nbformat_minor": 5
}

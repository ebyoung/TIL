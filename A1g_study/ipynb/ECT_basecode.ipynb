{
 "cells": [
  {
   "cell_type": "markdown",
   "id": "1134de31",
   "metadata": {},
   "source": [
    "# 이코테 코드"
   ]
  },
  {
   "cell_type": "markdown",
   "id": "01d00bbc",
   "metadata": {},
   "source": [
    "## DFS/BFS"
   ]
  },
  {
   "cell_type": "markdown",
   "id": "bc4a6e9b",
   "metadata": {},
   "source": [
    "### 이코테\n",
    "- dfs는 재귀, bfs는 반복 활용\n",
    "- 입력 그래프는 2차원 리스트"
   ]
  },
  {
   "cell_type": "code",
   "execution_count": 1,
   "id": "123cdb57",
   "metadata": {},
   "outputs": [],
   "source": [
    "# 예시 입력\n",
    "graph = [\n",
    "    [],\n",
    "    [2, 3, 8],\n",
    "    [1, 7],\n",
    "    [1, 4, 5],\n",
    "    [3, 5],\n",
    "    [3, 4],\n",
    "    [7],\n",
    "    [2, 6, 8],\n",
    "    [1, 7]\n",
    "]\n",
    "\n",
    "visited = [False] * 9"
   ]
  },
  {
   "cell_type": "code",
   "execution_count": 2,
   "id": "f3d54799",
   "metadata": {},
   "outputs": [],
   "source": [
    "def dfs(graph, v, visited):\n",
    "    visited[v] = True\n",
    "    print(v, end=' ')\n",
    "    \n",
    "    for i in graph[v]:\n",
    "        if not visited[i]:\n",
    "            dfs(graph, i, visited)"
   ]
  },
  {
   "cell_type": "code",
   "execution_count": 3,
   "id": "ec8e9939",
   "metadata": {},
   "outputs": [
    {
     "name": "stdout",
     "output_type": "stream",
     "text": [
      "1 2 7 6 8 3 4 5 "
     ]
    }
   ],
   "source": [
    "dfs(graph, 1, visited)"
   ]
  },
  {
   "cell_type": "code",
   "execution_count": 4,
   "id": "559a2d82",
   "metadata": {},
   "outputs": [],
   "source": [
    "from collections import deque\n",
    "\n",
    "def bfs(graph, start, visited):\n",
    "    queue = deque([start])\n",
    "    visited[start] = True\n",
    "    \n",
    "    while queue:\n",
    "        v = queue.popleft()\n",
    "        print(v, end=' ')\n",
    "        for i in graph[v]:\n",
    "            if not visited[i]:\n",
    "                queue.append(i)\n",
    "                visited[i] = True"
   ]
  },
  {
   "cell_type": "code",
   "execution_count": 5,
   "id": "3f7a5bc5",
   "metadata": {},
   "outputs": [],
   "source": [
    "# 예시 입력\n",
    "graph = [\n",
    "    [],\n",
    "    [2, 3, 8],\n",
    "    [1, 7],\n",
    "    [1, 4, 5],\n",
    "    [3, 5],\n",
    "    [3, 4],\n",
    "    [7],\n",
    "    [2, 6, 8],\n",
    "    [1, 7]\n",
    "]\n",
    "\n",
    "visited = [False] * 9"
   ]
  },
  {
   "cell_type": "code",
   "execution_count": 6,
   "id": "546c0b69",
   "metadata": {},
   "outputs": [
    {
     "name": "stdout",
     "output_type": "stream",
     "text": [
      "1 2 3 8 7 4 5 6 "
     ]
    }
   ],
   "source": [
    "bfs(graph, 1, visited)"
   ]
  },
  {
   "cell_type": "markdown",
   "id": "d421c626",
   "metadata": {},
   "source": [
    "### 갓성진\n",
    "- dfs와 bfs 모두 반복문으로 비슷한 방식\n",
    "- 입력 그래프는 딕셔너리"
   ]
  },
  {
   "cell_type": "code",
   "execution_count": 7,
   "id": "404b20bb",
   "metadata": {},
   "outputs": [],
   "source": [
    "graph = {\n",
    "    'A': ['H', 'D', 'B'],\n",
    "    'B': ['C'],\n",
    "    'D': ['G', 'E'],\n",
    "    'E': ['F'],\n",
    "    'H': ['I'],\n",
    "}"
   ]
  },
  {
   "cell_type": "code",
   "execution_count": 8,
   "id": "7f083f52",
   "metadata": {},
   "outputs": [],
   "source": [
    "def dfs(graph, root, visited):\n",
    "    stack.append(root)\n",
    "    \n",
    "    while stack:\n",
    "        now = stack.pop() # now = 'A', stack = []\n",
    "        if now not in visited:\n",
    "            visited.append(now)\n",
    "            if graph.get(now):\n",
    "                stack.extend(graph[now])"
   ]
  },
  {
   "cell_type": "code",
   "execution_count": 9,
   "id": "9d0cabe7",
   "metadata": {},
   "outputs": [
    {
     "name": "stdout",
     "output_type": "stream",
     "text": [
      "['A', 'B', 'C', 'D', 'E', 'F', 'G', 'H', 'I']\n"
     ]
    }
   ],
   "source": [
    "stack = []\n",
    "visited = []\n",
    "dfs(graph, 'A', visited)\n",
    "print(visited)"
   ]
  },
  {
   "cell_type": "code",
   "execution_count": 10,
   "id": "76eba731",
   "metadata": {},
   "outputs": [],
   "source": [
    "from collections import deque\n",
    "\n",
    "def bfs(graph, root):\n",
    "    q.append(root)\n",
    "    \n",
    "    while q:\n",
    "        now = q.popleft()\n",
    "        if now not in visited:\n",
    "            visited.append(now)\n",
    "            if graph.get(now):\n",
    "                q.extend(graph[now])"
   ]
  },
  {
   "cell_type": "code",
   "execution_count": 11,
   "id": "349a3499",
   "metadata": {},
   "outputs": [
    {
     "name": "stdout",
     "output_type": "stream",
     "text": [
      "['A', 'H', 'D', 'B', 'I', 'G', 'E', 'C', 'F']\n"
     ]
    }
   ],
   "source": [
    "q = deque()\n",
    "visited = []\n",
    "bfs(graph, 'A')\n",
    "print(visited)"
   ]
  },
  {
   "cell_type": "markdown",
   "id": "7241088a",
   "metadata": {},
   "source": [
    "## 정렬 알고리즘"
   ]
  },
  {
   "cell_type": "markdown",
   "id": "7c198bb2",
   "metadata": {},
   "source": [
    "### 선택 정렬"
   ]
  },
  {
   "cell_type": "code",
   "execution_count": 12,
   "id": "5e76aa5f",
   "metadata": {},
   "outputs": [
    {
     "data": {
      "text/plain": [
       "[3, 2, 7, 4, 6, 8, 7, 2, 8, 3]"
      ]
     },
     "execution_count": 12,
     "metadata": {},
     "output_type": "execute_result"
    }
   ],
   "source": [
    "import random\n",
    "array = [random.randint(0, 9) for _ in range(10)]\n",
    "array"
   ]
  },
  {
   "cell_type": "code",
   "execution_count": 13,
   "id": "e74f6fbe",
   "metadata": {},
   "outputs": [
    {
     "name": "stdout",
     "output_type": "stream",
     "text": [
      "[2, 2, 3, 3, 4, 6, 7, 7, 8, 8]\n"
     ]
    }
   ],
   "source": [
    "def selection_sort(input_array):\n",
    "    array = input_array[:] # 원본 리스트를 손상시키지 않고 싶어서\n",
    "    for i in range(len(array)):\n",
    "        min_index = i\n",
    "        for j in range(i + 1, len(array)):\n",
    "            if array[min_index] > array[j]:\n",
    "                min_index = j\n",
    "        array[i], array[min_index] = array[min_index], array[i]\n",
    "    \n",
    "    return array\n",
    "\n",
    "print(selection_sort(array))"
   ]
  },
  {
   "cell_type": "markdown",
   "id": "0b99bab4",
   "metadata": {},
   "source": [
    "### 삽입 정렬"
   ]
  },
  {
   "cell_type": "code",
   "execution_count": 14,
   "id": "6c18d2d5",
   "metadata": {},
   "outputs": [
    {
     "name": "stdout",
     "output_type": "stream",
     "text": [
      "[2, 2, 3, 3, 4, 6, 7, 7, 8, 8]\n"
     ]
    }
   ],
   "source": [
    "def insertion_sort(input_array):\n",
    "    array = input_array[:]\n",
    "    for i in range(1, len(array)):\n",
    "        for j in range(i, 0, -1):\n",
    "            if array[j] < array[j-1]:\n",
    "                array[j], array[j-1] = array[j-1], array[j]\n",
    "            else:\n",
    "                break\n",
    "    \n",
    "    return array\n",
    "\n",
    "print(insertion_sort(array))"
   ]
  },
  {
   "cell_type": "markdown",
   "id": "f3ae620d",
   "metadata": {},
   "source": [
    "### 퀵 정렬"
   ]
  },
  {
   "cell_type": "code",
   "execution_count": 17,
   "id": "c498ee33",
   "metadata": {},
   "outputs": [
    {
     "name": "stdout",
     "output_type": "stream",
     "text": [
      "[2, 2, 3, 3, 4, 6, 7, 7, 8, 8]\n"
     ]
    }
   ],
   "source": [
    "def quick_sort(array, start, end):\n",
    "    if start >= end:\n",
    "        return\n",
    "    \n",
    "    pivot = start\n",
    "    left = start + 1\n",
    "    right = end\n",
    "    \n",
    "    while left <= right:\n",
    "        while (left <= end) and (array[left] <= array[pivot]):\n",
    "            left += 1\n",
    "            \n",
    "        while (right > start) and (array[right] >= array[pivot]):\n",
    "            right -= 1\n",
    "            \n",
    "        if left > right:\n",
    "            array[right], array[pivot] = array[pivot], array[right]\n",
    "        else:\n",
    "            array[left], array[right] = array[right], array[left]\n",
    "    \n",
    "    quick_sort(array, start, right - 1)\n",
    "    quick_sort(array, right + 1, end)"
   ]
  },
  {
   "cell_type": "code",
   "execution_count": 18,
   "id": "4344325f",
   "metadata": {},
   "outputs": [
    {
     "name": "stdout",
     "output_type": "stream",
     "text": [
      "[2, 3, 4, 4, 5, 5, 5, 7, 8, 9]\n"
     ]
    }
   ],
   "source": [
    "import random\n",
    "array = [random.randint(0, 9) for _ in range(10)]\n",
    "\n",
    "quick_sort(array, 0, len(array) - 1)\n",
    "print(array)"
   ]
  },
  {
   "cell_type": "markdown",
   "id": "f504dc8d",
   "metadata": {},
   "source": [
    "## 이진 탐색"
   ]
  },
  {
   "cell_type": "markdown",
   "id": "a41f82c0",
   "metadata": {},
   "source": [
    "### 재귀"
   ]
  },
  {
   "cell_type": "code",
   "execution_count": 1,
   "id": "23007af5",
   "metadata": {},
   "outputs": [],
   "source": [
    "def binary_search(array, target, start, end):\n",
    "    if start > end:\n",
    "        return None\n",
    "    mid = (start + end) // 2\n",
    "    \n",
    "    if array[mid] == target:\n",
    "        return mid\n",
    "    elif array[mid] > target:\n",
    "        return binary_search(array, target, start, mid - 1)\n",
    "    else:\n",
    "        return binary_search(array, target, mid + 1, end)"
   ]
  },
  {
   "cell_type": "code",
   "execution_count": 3,
   "id": "211dcca3",
   "metadata": {},
   "outputs": [
    {
     "name": "stdout",
     "output_type": "stream",
     "text": [
      "3\n"
     ]
    }
   ],
   "source": [
    "# 예시 입력\n",
    "n = 10\n",
    "target = 7\n",
    "array = [1, 3, 5, 7, 9, 11, 13, 15, 17, 19] # 정렬된 리스트여야 함\n",
    "\n",
    "result = binary_search(array, target, 0, n - 1)\n",
    "print(result)"
   ]
  },
  {
   "cell_type": "markdown",
   "id": "237601de",
   "metadata": {},
   "source": [
    "### 반복"
   ]
  },
  {
   "cell_type": "code",
   "execution_count": 6,
   "id": "c1da79f4",
   "metadata": {},
   "outputs": [],
   "source": [
    "def binary_search(array, target, start, end):\n",
    "    while start <= end:\n",
    "        mid = (start + end) // 2\n",
    "        \n",
    "        if array[mid] == target:\n",
    "            return mid\n",
    "        elif array[mid] > target:\n",
    "            end = mid - 1\n",
    "        else:\n",
    "            start = mid + 1\n",
    "    \n",
    "    return None"
   ]
  },
  {
   "cell_type": "code",
   "execution_count": 7,
   "id": "9dc20fcd",
   "metadata": {},
   "outputs": [
    {
     "name": "stdout",
     "output_type": "stream",
     "text": [
      "3\n"
     ]
    }
   ],
   "source": [
    "# 예시 입력\n",
    "n = 10\n",
    "target = 7\n",
    "array = [1, 3, 5, 7, 9, 11, 13, 15, 17, 19] # 정렬된 리스트여야 함\n",
    "\n",
    "result = binary_search(array, target, 0, n - 1)\n",
    "print(result)"
   ]
  },
  {
   "cell_type": "markdown",
   "id": "17574372",
   "metadata": {},
   "source": [
    "### 라이브러리 사용"
   ]
  },
  {
   "cell_type": "code",
   "execution_count": 8,
   "id": "d4163169",
   "metadata": {},
   "outputs": [
    {
     "name": "stdout",
     "output_type": "stream",
     "text": [
      "2\n",
      "5\n"
     ]
    }
   ],
   "source": [
    "from bisect import bisect_left, bisect_right\n",
    "\n",
    "target = 4\n",
    "array = [1,  2,  4,  4,  4,  6,  8]\n",
    "#             ↑(left)    ↑(right)\n",
    "\n",
    "print(bisect_left(array, target))\n",
    "print(bisect_right(array, target))"
   ]
  },
  {
   "cell_type": "markdown",
   "id": "2cc18d1d",
   "metadata": {},
   "source": [
    "### 응용: 값이 특정 범위에 속하는 데이터 개수 구하기"
   ]
  },
  {
   "cell_type": "code",
   "execution_count": 9,
   "id": "b37c9ffe",
   "metadata": {},
   "outputs": [],
   "source": [
    "from bisect import bisect_left, bisect_right\n",
    "\n",
    "def count_by_range(array, left_value, right_value):\n",
    "    right_index = bisect_right(array, right_value)\n",
    "    left_index = bisect_left(array, left_value)\n",
    "    \n",
    "    return right_index - left_index"
   ]
  },
  {
   "cell_type": "code",
   "execution_count": 10,
   "id": "020f07f1",
   "metadata": {},
   "outputs": [
    {
     "name": "stdout",
     "output_type": "stream",
     "text": [
      "2\n",
      "6\n"
     ]
    }
   ],
   "source": [
    "# 예시 입력\n",
    "array = [1, 2, 3, 3, 3, 3, 4, 4, 8, 9]\n",
    "\n",
    "print(count_by_range(array, 4, 4))\n",
    "print(count_by_range(array, -1, 3))"
   ]
  }
 ],
 "metadata": {
  "kernelspec": {
   "display_name": "Python 3 (ipykernel)",
   "language": "python",
   "name": "python3"
  },
  "language_info": {
   "codemirror_mode": {
    "name": "ipython",
    "version": 3
   },
   "file_extension": ".py",
   "mimetype": "text/x-python",
   "name": "python",
   "nbconvert_exporter": "python",
   "pygments_lexer": "ipython3",
   "version": "3.9.9"
  },
  "toc": {
   "base_numbering": 1,
   "nav_menu": {},
   "number_sections": true,
   "sideBar": true,
   "skip_h1_title": false,
   "title_cell": "Table of Contents",
   "title_sidebar": "Contents",
   "toc_cell": false,
   "toc_position": {},
   "toc_section_display": true,
   "toc_window_display": false
  }
 },
 "nbformat": 4,
 "nbformat_minor": 5
}

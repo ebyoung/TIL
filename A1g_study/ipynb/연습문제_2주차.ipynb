{
 "cells": [
  {
   "cell_type": "markdown",
   "id": "2a1af118",
   "metadata": {},
   "source": [
    "# 알고리즘 스터디 연습문제 2주차\n",
    "- 모범답안 아님\n",
    "- 그냥 이런 풀이도 있다 정도\n",
    "- 궁금한거 질문!!"
   ]
  },
  {
   "cell_type": "markdown",
   "id": "480c25e9",
   "metadata": {},
   "source": [
    "## 2. 그리디 & 구현"
   ]
  },
  {
   "cell_type": "markdown",
   "id": "614cd190",
   "metadata": {},
   "source": [
    "### 그리디\n",
    "주유소, 백준 13305번<br>\n",
    "(https://www.acmicpc.net/problem/13305)"
   ]
  },
  {
   "cell_type": "code",
   "execution_count": 2,
   "id": "bad41d1c",
   "metadata": {},
   "outputs": [
    {
     "name": "stdout",
     "output_type": "stream",
     "text": [
      "4\n",
      "2 3 1\n",
      "5 2 4 1\n",
      "18\n"
     ]
    }
   ],
   "source": [
    "n = int(input())\n",
    "distances = list(map(int, input().split()))\n",
    "prices = list(map(int, input().split()))\n",
    "min_price = prices[0]\n",
    "result = distances[0] * min_price\n",
    "\n",
    "for i in range(1, n-1):\n",
    "    if min_price > prices[i]:\n",
    "        min_price = prices[i]\n",
    "    result += min_price * distances[i]\n",
    "\n",
    "print(result)"
   ]
  }
 ],
 "metadata": {
  "kernelspec": {
   "display_name": "Python 3 (ipykernel)",
   "language": "python",
   "name": "python3"
  },
  "language_info": {
   "codemirror_mode": {
    "name": "ipython",
    "version": 3
   },
   "file_extension": ".py",
   "mimetype": "text/x-python",
   "name": "python",
   "nbconvert_exporter": "python",
   "pygments_lexer": "ipython3",
   "version": "3.9.9"
  },
  "toc": {
   "base_numbering": 1,
   "nav_menu": {},
   "number_sections": true,
   "sideBar": true,
   "skip_h1_title": false,
   "title_cell": "Table of Contents",
   "title_sidebar": "Contents",
   "toc_cell": false,
   "toc_position": {},
   "toc_section_display": true,
   "toc_window_display": false
  }
 },
 "nbformat": 4,
 "nbformat_minor": 5
}

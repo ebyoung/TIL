{
 "cells": [
  {
   "cell_type": "markdown",
   "id": "2a1af118",
   "metadata": {},
   "source": [
    "# 알고리즘 스터디 연습문제 2주차\n",
    "- 모범답안 아님\n",
    "- 그냥 이런 풀이도 있다 정도\n",
    "- 궁금한거 질문!!"
   ]
  },
  {
   "cell_type": "markdown",
   "id": "480c25e9",
   "metadata": {},
   "source": [
    "## 2. 그리디 & 구현"
   ]
  },
  {
   "cell_type": "markdown",
   "id": "614cd190",
   "metadata": {},
   "source": [
    "### 그리디\n",
    "주유소, 백준 13305번<br>\n",
    "(https://www.acmicpc.net/problem/13305)"
   ]
  },
  {
   "cell_type": "code",
   "execution_count": 2,
   "id": "bad41d1c",
   "metadata": {},
   "outputs": [
    {
     "name": "stdout",
     "output_type": "stream",
     "text": [
      "4\n",
      "2 3 1\n",
      "5 2 4 1\n",
      "18\n"
     ]
    }
   ],
   "source": [
    "n = int(input())\n",
    "distances = list(map(int, input().split()))\n",
    "prices = list(map(int, input().split()))\n",
    "# 최소 가격에 일단 첫 가격 저장\n",
    "min_price = prices[0]\n",
    "# 처음 길은 첫 가격으로 무조건 가야됨\n",
    "result = distances[0] * min_price\n",
    "\n",
    "for i in range(1, n-1):\n",
    "    # 지금까지 나온 최소 가격보다 싼 가격이면 최소 가격 교체\n",
    "    if min_price > prices[i]:\n",
    "        min_price = prices[i]\n",
    "    # 최소 가격으로 길을 간다고 가정하고 계산\n",
    "    result += min_price * distances[i]\n",
    "\n",
    "print(result)"
   ]
  },
  {
   "cell_type": "markdown",
   "id": "2a6422cd",
   "metadata": {},
   "source": [
    "### 구현\n",
    "블랙잭, 백준 2798번<br>\n",
    "(https://www.acmicpc.net/problem/2798)"
   ]
  },
  {
   "cell_type": "code",
   "execution_count": 8,
   "id": "72434cf0",
   "metadata": {},
   "outputs": [
    {
     "name": "stdout",
     "output_type": "stream",
     "text": [
      "10 500\n",
      "93 181 245 214 315 36 185 138 216 295\n",
      "497\n"
     ]
    }
   ],
   "source": [
    "n, m = map(int, input().split())\n",
    "cards = list(map(int, input().split()))\n",
    "\n",
    "total_list = list()                         ## ans = 0\n",
    "# 카드를 중복하지 않게 뽑음\n",
    "for i in range(n):\n",
    "    for j in range(i+1, n):\n",
    "        for k in range(j+1, n):\n",
    "            total = cards[i] + cards[j] + cards[k]\n",
    "            # 세장의 숫자 카드의 합이 m을 넘지 않으면 리스트에 저장\n",
    "            if total <= m:\n",
    "                total_list.append(total)    ## ans = max(ans, total)\n",
    "# 리스트의 최대값 찾기\n",
    "result = max(total_list)\n",
    "print(result)                               ## print(ans) 이런식으로 결과를 계속 갱신해도 됨"
   ]
  },
  {
   "cell_type": "markdown",
   "id": "d5146f5d",
   "metadata": {},
   "source": [
    "itertools.**permutations**(*iterable, r=None*)<br>\n",
    "- *iterable*에서 요소의 연속된 길이 *r* 순열을 반환합니다.\n",
    "- *r*이 지정되지 않았거나 `None`이면, *r*의 기본값은 *iterable*의 길이이며 가능한 모든 최대 길이 순열이 생성됩니다.\n",
    "- 순열(permutation) 튜플은 입력 *iterable*의 순서에 따라 사전식 순서로 방출됩니다.\n",
    "    - 따라서, 입력 *iterable*이 정렬되어 있으면, 순열 튜플이 정렬된 순서로 생성됩니다.\n",
    "- 요소는 값이 아니라 위치로 고유성을 다룹니다. 따라서 입력 요소가 고유하면, 각 순열에 반복 값이 없습니다."
   ]
  },
  {
   "cell_type": "code",
   "execution_count": null,
   "id": "938f9e87",
   "metadata": {},
   "outputs": [],
   "source": [
    "from itertools import permutations\n",
    "# 이걸 쓰면 좀 더 쉽답니다.\n",
    "n, m = map(int, input().split())\n",
    "\n",
    "num = list(map(int, input().split()))\n",
    "permutationArray = permutations(num, 3)\n",
    "ans = 0\n",
    "for i in permutationArray:\n",
    "    if(m+1 > sum(i)):\n",
    "        ans = max(ans, sum(i))\n",
    "    \n",
    "print(ans)"
   ]
  },
  {
   "cell_type": "markdown",
   "id": "bcf0d59d",
   "metadata": {},
   "source": [
    "## 3. DFS & BFS"
   ]
  },
  {
   "cell_type": "markdown",
   "id": "3a29a51f",
   "metadata": {},
   "source": [
    "### 재귀\n",
    "피보나치 수 5, 백준 10870번<br>\n",
    "(https://www.acmicpc.net/problem/10870)"
   ]
  },
  {
   "cell_type": "code",
   "execution_count": 6,
   "id": "d875e5f9",
   "metadata": {},
   "outputs": [
    {
     "name": "stdout",
     "output_type": "stream",
     "text": [
      "10\n",
      "55\n"
     ]
    }
   ],
   "source": [
    "def fib(n):\n",
    "    if n <= 1:\n",
    "        return n\n",
    "    \n",
    "    return fib(n-1) + fib(n-2)\n",
    "\n",
    "n = int(input())\n",
    "print(fib(n))"
   ]
  },
  {
   "cell_type": "markdown",
   "id": "7dfa1232",
   "metadata": {},
   "source": [
    "## 4. 정렬 알고리즘"
   ]
  },
  {
   "cell_type": "markdown",
   "id": "604c9896",
   "metadata": {},
   "source": [
    "### O(N^2)\n",
    "수 정렬하기, 백준 2750번<br>\n",
    "https://www.acmicpc.net/problem/2750"
   ]
  },
  {
   "cell_type": "code",
   "execution_count": 28,
   "id": "318f6bfd",
   "metadata": {},
   "outputs": [
    {
     "name": "stdout",
     "output_type": "stream",
     "text": [
      "5\n",
      "5\n",
      "2\n",
      "3\n",
      "4\n",
      "1\n",
      "1\n",
      "2\n",
      "3\n",
      "4\n",
      "5\n"
     ]
    }
   ],
   "source": [
    "n = int(input())\n",
    "\n",
    "sorted_list = []\n",
    "\n",
    "for i in range(n):\n",
    "    sorted_list.append(int(input()))\n",
    "    for j in range(i, 0, -1):\n",
    "        if sorted_list[j] < sorted_list[j-1]:\n",
    "            sorted_list[j], sorted_list[j-1] = sorted_list[j-1], sorted_list[j]\n",
    "        else:\n",
    "            break\n",
    "        \n",
    "for num in sorted_list:\n",
    "    print(num)"
   ]
  },
  {
   "cell_type": "markdown",
   "id": "b3ed63bf",
   "metadata": {},
   "source": [
    "## 5. 이진 탐색\n",
    "### 최적화\n",
    "랜선 자르기, 백준 1654번<br>\n",
    "https://www.acmicpc.net/problem/1654"
   ]
  },
  {
   "cell_type": "code",
   "execution_count": 1,
   "id": "d6ac1543",
   "metadata": {},
   "outputs": [
    {
     "name": "stdout",
     "output_type": "stream",
     "text": [
      "4 11\n",
      "802\n",
      "743\n",
      "457\n",
      "539\n",
      "200\n"
     ]
    }
   ],
   "source": [
    "k, n = map(int, input().split())\n",
    "lengths = []\n",
    "for _ in range(k):\n",
    "    lengths.append(int(input()))\n",
    "\n",
    "start = 0\n",
    "end = max(lengths)\n",
    "result = 0\n",
    "\n",
    "while start <= end:\n",
    "    mid = (start + end) // 2\n",
    "    count = 0\n",
    "    # 이거 없으면 ZeroDivisionError 나오던데 왜 그런건지 아는 사람 설명좀ㅠ\n",
    "    if mid == 0:\n",
    "        result = 1\n",
    "        break\n",
    "\n",
    "    for length in lengths:\n",
    "        if length >= mid:\n",
    "            count += (length // mid)\n",
    "\n",
    "    if count < n:\n",
    "        end = mid - 1\n",
    "    \n",
    "    elif count >= n:\n",
    "        result = mid\n",
    "        start = mid + 1\n",
    "\n",
    "print(result)"
   ]
  },
  {
   "cell_type": "markdown",
   "id": "4d4b2b6f",
   "metadata": {},
   "source": [
    "### 개수 세기\n",
    "숫자 카드 2, 백준 10816번<br>\n",
    "https://www.acmicpc.net/problem/10816"
   ]
  },
  {
   "cell_type": "code",
   "execution_count": 2,
   "id": "d5fa3c7d",
   "metadata": {},
   "outputs": [
    {
     "name": "stdout",
     "output_type": "stream",
     "text": [
      "10\n",
      "6 3 2 10 10 10 -10 -10 7 3\n",
      "8\n",
      "10 9 -5 2 3 4 5 -10\n",
      "3 0 0 1 2 0 0 2\n"
     ]
    }
   ],
   "source": [
    "from bisect import bisect_left, bisect_right\n",
    "\n",
    "def count_in_list(cards, number):\n",
    "    right_index = bisect_right(cards, number)\n",
    "    left_index = bisect_left(cards, number)\n",
    "    return right_index - left_index\n",
    "\n",
    "n = int(input())\n",
    "cards = list(map(int, input().split()))\n",
    "cards.sort()\n",
    "m = int(input())\n",
    "numbers = list(map(int, input().split()))\n",
    "\n",
    "results = []\n",
    "for number in numbers:\n",
    "    results.append(str(count_in_list(cards, number)))\n",
    "\n",
    "print(' '.join(results))"
   ]
  }
 ],
 "metadata": {
  "kernelspec": {
   "display_name": "Python 3 (ipykernel)",
   "language": "python",
   "name": "python3"
  },
  "language_info": {
   "codemirror_mode": {
    "name": "ipython",
    "version": 3
   },
   "file_extension": ".py",
   "mimetype": "text/x-python",
   "name": "python",
   "nbconvert_exporter": "python",
   "pygments_lexer": "ipython3",
   "version": "3.9.9"
  },
  "toc": {
   "base_numbering": 1,
   "nav_menu": {},
   "number_sections": true,
   "sideBar": true,
   "skip_h1_title": false,
   "title_cell": "Table of Contents",
   "title_sidebar": "Contents",
   "toc_cell": false,
   "toc_position": {},
   "toc_section_display": true,
   "toc_window_display": false
  }
 },
 "nbformat": 4,
 "nbformat_minor": 5
}

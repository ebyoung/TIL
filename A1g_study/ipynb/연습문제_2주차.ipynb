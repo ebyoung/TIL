{
 "cells": [
  {
   "cell_type": "markdown",
   "id": "2a1af118",
   "metadata": {},
   "source": [
    "# 알고리즘 스터디 연습문제 2주차\n",
    "- 모범답안 아님\n",
    "- 그냥 이런 풀이도 있다 정도\n",
    "- 궁금한거 질문!!"
   ]
  },
  {
   "cell_type": "markdown",
   "id": "480c25e9",
   "metadata": {},
   "source": [
    "## 2. 그리디 & 구현"
   ]
  },
  {
   "cell_type": "markdown",
   "id": "614cd190",
   "metadata": {},
   "source": [
    "### 그리디\n",
    "주유소, 백준 13305번<br>\n",
    "(https://www.acmicpc.net/problem/13305)"
   ]
  },
  {
   "cell_type": "code",
   "execution_count": 2,
   "id": "bad41d1c",
   "metadata": {},
   "outputs": [
    {
     "name": "stdout",
     "output_type": "stream",
     "text": [
      "4\n",
      "2 3 1\n",
      "5 2 4 1\n",
      "18\n"
     ]
    }
   ],
   "source": [
    "n = int(input())\n",
    "distances = list(map(int, input().split()))\n",
    "prices = list(map(int, input().split()))\n",
    "# 최소 가격에 일단 첫 가격 저장\n",
    "min_price = prices[0]\n",
    "# 처음 길은 첫 가격으로 무조건 가야됨\n",
    "result = distances[0] * min_price\n",
    "\n",
    "for i in range(1, n-1):\n",
    "    # 지금까지 나온 최소 가격보다 싼 가격이면 최소 가격 교체\n",
    "    if min_price > prices[i]:\n",
    "        min_price = prices[i]\n",
    "    # 최소 가격으로 길을 간다고 가정하고 계산\n",
    "    result += min_price * distances[i]\n",
    "\n",
    "print(result)"
   ]
  },
  {
   "cell_type": "markdown",
   "id": "2a6422cd",
   "metadata": {},
   "source": [
    "### 구현\n",
    "블랙잭, 백준 2798번<br>\n",
    "(https://www.acmicpc.net/problem/2798)"
   ]
  },
  {
   "cell_type": "code",
   "execution_count": 8,
   "id": "72434cf0",
   "metadata": {},
   "outputs": [
    {
     "name": "stdout",
     "output_type": "stream",
     "text": [
      "10 500\n",
      "93 181 245 214 315 36 185 138 216 295\n",
      "497\n"
     ]
    }
   ],
   "source": [
    "n, m = map(int, input().split())\n",
    "cards = list(map(int, input().split()))\n",
    "\n",
    "total_list = list()                         ## ans = 0\n",
    "# 카드를 중복하지 않게 뽑음\n",
    "for i in range(n):\n",
    "    for j in range(i+1, n):\n",
    "        for k in range(j+1, n):\n",
    "            total = cards[i] + cards[j] + cards[k]\n",
    "            # 세장의 숫자 카드의 합이 m을 넘지 않으면 리스트에 저장\n",
    "            if total <= m:\n",
    "                total_list.append(total)    ## ans = max(ans, total)\n",
    "# 리스트의 최대값 찾기\n",
    "result = max(total_list)\n",
    "print(result)                               ## print(ans) 이런식으로 결과를 계속 갱신해도 됨"
   ]
  },
  {
   "cell_type": "markdown",
   "id": "d5146f5d",
   "metadata": {},
   "source": [
    "itertools.**permutations**(*iterable, r=None*)<br>\n",
    "- *iterable*에서 요소의 연속된 길이 *r* 순열을 반환합니다.\n",
    "- *r*이 지정되지 않았거나 `None`이면, *r*의 기본값은 *iterable*의 길이이며 가능한 모든 최대 길이 순열이 생성됩니다.\n",
    "- 순열(permutation) 튜플은 입력 *iterable*의 순서에 따라 사전식 순서로 방출됩니다.\n",
    "    - 따라서, 입력 *iterable*이 정렬되어 있으면, 순열 튜플이 정렬된 순서로 생성됩니다.\n",
    "- 요소는 값이 아니라 위치로 고유성을 다룹니다. 따라서 입력 요소가 고유하면, 각 순열에 반복 값이 없습니다."
   ]
  },
  {
   "cell_type": "code",
   "execution_count": null,
   "id": "938f9e87",
   "metadata": {},
   "outputs": [],
   "source": [
    "from itertools import permutations\n",
    "# 이걸 쓰면 좀 더 쉽답니다.\n",
    "n, m = map(int, input().split())\n",
    "\n",
    "num = list(map(int, input().split()))\n",
    "permutationArray = permutations(num, 3)\n",
    "ans = 0\n",
    "for i in permutationArray:\n",
    "    if(m+1 > sum(i)):\n",
    "        ans = max(ans, sum(i))\n",
    "    \n",
    "print(ans)"
   ]
  },
  {
   "cell_type": "markdown",
   "id": "bcf0d59d",
   "metadata": {},
   "source": [
    "## 3. DFS & BFS"
   ]
  },
  {
   "cell_type": "markdown",
   "id": "3a29a51f",
   "metadata": {},
   "source": [
    "### 재귀\n",
    "피보나치 수 5, 백준 10870번<br>\n",
    "(https://www.acmicpc.net/problem/10870)"
   ]
  },
  {
   "cell_type": "code",
   "execution_count": 6,
   "id": "d875e5f9",
   "metadata": {},
   "outputs": [
    {
     "name": "stdout",
     "output_type": "stream",
     "text": [
      "10\n",
      "55\n"
     ]
    }
   ],
   "source": [
    "def fib(n):\n",
    "    if n <= 1:\n",
    "        return n\n",
    "    \n",
    "    return fib(n-1) + fib(n-2)\n",
    "\n",
    "n = int(input())\n",
    "print(fib(n))"
   ]
  }
 ],
 "metadata": {
  "kernelspec": {
   "display_name": "Python 3 (ipykernel)",
   "language": "python",
   "name": "python3"
  },
  "language_info": {
   "codemirror_mode": {
    "name": "ipython",
    "version": 3
   },
   "file_extension": ".py",
   "mimetype": "text/x-python",
   "name": "python",
   "nbconvert_exporter": "python",
   "pygments_lexer": "ipython3",
   "version": "3.9.9"
  },
  "toc": {
   "base_numbering": 1,
   "nav_menu": {},
   "number_sections": true,
   "sideBar": true,
   "skip_h1_title": false,
   "title_cell": "Table of Contents",
   "title_sidebar": "Contents",
   "toc_cell": false,
   "toc_position": {},
   "toc_section_display": true,
   "toc_window_display": false
  }
 },
 "nbformat": 4,
 "nbformat_minor": 5
}

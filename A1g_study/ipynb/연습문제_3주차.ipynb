{
 "cells": [
  {
   "cell_type": "markdown",
   "metadata": {},
   "source": [
    "# 알고리즘 스터디 연습문제 3주차\n",
    "- 모범답안 아님\n",
    "- 그냥 이런 풀이도 있다 정도\n",
    "- 궁금한거 질문!!"
   ]
  },
  {
   "cell_type": "markdown",
   "metadata": {},
   "source": [
    "## 5. 이진 탐색\n",
    "### 최적화\n",
    "랜선 자르기, 백준 1654번<br>\n",
    "https://www.acmicpc.net/problem/1654"
   ]
  },
  {
   "cell_type": "code",
   "execution_count": null,
   "metadata": {},
   "outputs": [],
   "source": [
    "k, n = map(int, input().split())\n",
    "lengths = []\n",
    "for _ in range(k):\n",
    "    lengths.append(int(input()))\n",
    "\n",
    "start = 0\n",
    "end = max(lengths)\n",
    "result = 0\n",
    "\n",
    "while start <= end:\n",
    "    mid = (start + end) // 2\n",
    "    count = 0\n",
    "    # 이거 없으면 ZeroDivisionError 나오던데 왜 그런건지 아는 사람 설명좀ㅠ\n",
    "    if mid == 0:\n",
    "        result = 1\n",
    "        break\n",
    "\n",
    "    for length in lengths:\n",
    "        if length >= mid:\n",
    "            count += (length // mid)\n",
    "\n",
    "    if count < n:\n",
    "        end = mid - 1\n",
    "    \n",
    "    elif count >= n:\n",
    "        result = mid\n",
    "        start = mid + 1\n",
    "\n",
    "print(result)"
   ]
  },
  {
   "cell_type": "markdown",
   "metadata": {},
   "source": [
    "### 개수 세기\n",
    "숫자 카드 2, 백준 10816번<br>\n",
    "https://www.acmicpc.net/problem/10816"
   ]
  },
  {
   "cell_type": "code",
   "execution_count": null,
   "metadata": {},
   "outputs": [],
   "source": [
    "from bisect import bisect_left, bisect_right\n",
    "\n",
    "def count_in_list(cards, number):\n",
    "    right_index = bisect_right(cards, number)\n",
    "    left_index = bisect_left(cards, number)\n",
    "    return right_index - left_index\n",
    "\n",
    "n = int(input())\n",
    "cards = list(map(int, input().split()))\n",
    "cards.sort()\n",
    "m = int(input())\n",
    "numbers = list(map(int, input().split()))\n",
    "\n",
    "results = []\n",
    "for number in numbers:\n",
    "    results.append(str(count_in_list(cards, number)))\n",
    "\n",
    "print(' '.join(results))"
   ]
  }
 ],
 "metadata": {
  "interpreter": {
   "hash": "0d15e35744475b9c9856f9e56cdeb412250b2c4b2e9ab9e34ba2db498230dfad"
  },
  "kernelspec": {
   "display_name": "Python 3 (ipykernel)",
   "language": "python",
   "name": "python3"
  },
  "language_info": {
   "codemirror_mode": {
    "name": "ipython",
    "version": 3
   },
   "file_extension": ".py",
   "mimetype": "text/x-python",
   "name": "python",
   "nbconvert_exporter": "python",
   "pygments_lexer": "ipython3",
   "version": "3.9.9"
  },
  "toc": {
   "base_numbering": 1,
   "nav_menu": {},
   "number_sections": true,
   "sideBar": true,
   "skip_h1_title": false,
   "title_cell": "Table of Contents",
   "title_sidebar": "Contents",
   "toc_cell": false,
   "toc_position": {},
   "toc_section_display": true,
   "toc_window_display": false
  }
 },
 "nbformat": 4,
 "nbformat_minor": 2
}

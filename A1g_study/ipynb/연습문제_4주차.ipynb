{
 "cells": [
  {
   "cell_type": "markdown",
   "id": "582e0d94",
   "metadata": {},
   "source": [
    "# 알고리즘 스터디 연습문제 3주차\n",
    "- 모범답안 아님\n",
    "- 그냥 이런 풀이도 있다 정도\n",
    "- 궁금한거 질문!!"
   ]
  },
  {
   "cell_type": "markdown",
   "id": "ca01a049",
   "metadata": {},
   "source": [
    "## 다이나믹 프로그래밍"
   ]
  },
  {
   "cell_type": "markdown",
   "id": "0527858e",
   "metadata": {},
   "source": [
    "### DP\n",
    "피보나치 함수, 백준 1003번<br>\n",
    "https://www.acmicpc.net/problem/1003"
   ]
  },
  {
   "cell_type": "code",
   "execution_count": 14,
   "id": "602d47eb",
   "metadata": {},
   "outputs": [
    {
     "name": "stdout",
     "output_type": "stream",
     "text": [
      "2\n",
      "6\n",
      "5 8\n",
      "22\n",
      "10946 17711\n"
     ]
    }
   ],
   "source": [
    "# 탑다운\n",
    "dp = [[1, 0], [0, 1]] # 2차원 리스트 말고 0을 저장할 리스트와 1을 저장할 리스트를 각각 만들어도됨\n",
    "\n",
    "def fib_func(num):\n",
    "    if num >= len(dp):\n",
    "        result = [fib_01(num-2)[0] + fib_01(num-1)[0], fib_01(num-2)[1] + fib_01(num-1)[1]]\n",
    "        dp.append(result)\n",
    "    \n",
    "    return dp[num]\n",
    "\n",
    "t = int(input())\n",
    "for _ in range(t):\n",
    "    print(*fib_func(int(input())))"
   ]
  },
  {
   "cell_type": "code",
   "execution_count": 15,
   "id": "f03c5234",
   "metadata": {},
   "outputs": [
    {
     "name": "stdout",
     "output_type": "stream",
     "text": [
      "2\n",
      "6\n",
      "5 8\n",
      "22\n",
      "10946 17711\n"
     ]
    }
   ],
   "source": [
    "# 바텀업\n",
    "dp = [[1, 0], [0, 1]]\n",
    "\n",
    "def fib_func(num):\n",
    "    if num >= len(dp):\n",
    "        for i in range(len(dp), num+1):\n",
    "            count_01 = [dp[i-2][0] + dp[i-1][0], dp[i-2][1]+ dp[i-1][1]]\n",
    "            dp.append(count_01)\n",
    "\n",
    "    return dp[num]\n",
    "\n",
    "t = int(input())\n",
    "for _ in range(t):\n",
    "    print(*fib_func(int(input())))"
   ]
  },
  {
   "cell_type": "code",
   "execution_count": 17,
   "id": "df2c3ff8",
   "metadata": {},
   "outputs": [
    {
     "name": "stdout",
     "output_type": "stream",
     "text": [
      "2\n",
      "6\n",
      "5 8\n",
      "22\n",
      "10946 17711\n"
     ]
    }
   ],
   "source": [
    "# N은 40보다 작거나 같은 자연수 또는 0이라는 조건 이용\n",
    "dp = [[0, 0] for _ in range(41)]\n",
    "dp[0] = [1, 0]\n",
    "dp[1] = [0, 1]\n",
    "\n",
    "for i in range(2, 41):\n",
    "    dp[i][0] = dp[i-1][0] + dp[i-2][0]\n",
    "    dp[i][1] = dp[i-1][1] + dp[i-2][1]\n",
    "\n",
    "t = int(input())\n",
    "for _ in range(t):\n",
    "    n = int(input())\n",
    "    print(\" \".join(map(str, dp[n])))"
   ]
  },
  {
   "cell_type": "markdown",
   "id": "263b72ea",
   "metadata": {},
   "source": [
    "신나는 함수 실행, 백준 9184번<br>\n",
    "https://www.acmicpc.net/problem/9184"
   ]
  },
  {
   "cell_type": "code",
   "execution_count": 22,
   "id": "47e229ba",
   "metadata": {},
   "outputs": [
    {
     "name": "stdout",
     "output_type": "stream",
     "text": [
      "1 1 1\n",
      "w(1, 1, 1) = 2\n",
      "2 2 2\n",
      "w(2, 2, 2) = 4\n",
      "10 4 6\n",
      "w(10, 4, 6) = 523\n",
      "50 50 50\n",
      "w(50, 50, 50) = 1048576\n",
      "-1 7 18\n",
      "w(-1, 7, 18) = 1\n",
      "-1 -1 -1\n"
     ]
    }
   ],
   "source": [
    "# 탑다운\n",
    "dp_dict = {}\n",
    "\n",
    "def w(a, b, c):\n",
    "    if dp_dict.get((a, b, c)):\n",
    "        return dp_dict.get((a, b, c))\n",
    "\n",
    "    if (a <= 0) or (b <= 0) or (c <= 0):\n",
    "        dp_dict[(a, b, c)] = 1\n",
    "        return 1\n",
    "\n",
    "    elif (a > 20) or (b > 20) or (c > 20):\n",
    "        result = w(20, 20, 20)\n",
    "        dp_dict[(a, b, c)] = result\n",
    "        return result\n",
    "\n",
    "    if (a < b) and (b < c):\n",
    "        result = w(a, b, c-1) + w(a, b-1, c-1) - w(a, b-1, c)\n",
    "        dp_dict[(a, b, c)] = result\n",
    "        return result\n",
    "    \n",
    "    else:\n",
    "        result = w(a-1, b, c) + w(a-1, b-1, c) + w(a-1, b, c-1) - w(a-1, b-1, c-1)\n",
    "        dp_dict[(a, b, c)] = result\n",
    "        return result\n",
    "\n",
    "while True:\n",
    "    a, b, c = map(int, input().split())\n",
    "    if (a == -1) and (b == -1) and (c == -1):\n",
    "        break\n",
    "    print(f'w({a}, {b}, {c}) = {w(a, b, c)}')"
   ]
  },
  {
   "cell_type": "code",
   "execution_count": null,
   "id": "c6b5acea",
   "metadata": {},
   "outputs": [],
   "source": [
    "# 바텀업\n",
    "def w(a, b, c):\n",
    "    if a <= 0 or b<= 0 or c<=0:\n",
    "        return 1\n",
    "    \n",
    "    if a > 20 or b > 20 or c > 20: \n",
    "        return w(20, 20, 20)\n",
    "    \n",
    "    if dp[a][b][c]:\n",
    "        return dp[a][b][c]\n",
    "    \n",
    "    if a<b<c:\n",
    "        dp[a][b][c] = w(a,b,c-1)+w(a,b-1,c-1)-w(a, b-1, c)\n",
    "        return dp[a][b][c]\n",
    "    \n",
    "    dp[a][b][c] = w(a-1, b, c)+w(a-1,b-1,c)+w(a-1,b,c-1)-w(a-1,b-1,c-1)\n",
    "    \n",
    "    return dp[a][b][c]\n",
    "\n",
    "dp = [[[0]*(21) for _ in range(21)] for _ in range(21)]\n",
    "# 0~20까지므로\n",
    "while True:\n",
    "    a, b, c = map(int, input().split())\n",
    "    if (a == -1) and (b == -1) and (c == -1):\n",
    "        break\n",
    "    print(f'w({a}, {b}, {c}) = {w(a,b,c)}')"
   ]
  },
  {
   "cell_type": "markdown",
   "id": "d59a0d4d",
   "metadata": {},
   "source": [
    "파도반 수열, 백준 9461번<br>\n",
    "https://www.acmicpc.net/problem/9461"
   ]
  },
  {
   "cell_type": "code",
   "execution_count": 1,
   "id": "0c806058",
   "metadata": {},
   "outputs": [
    {
     "name": "stdout",
     "output_type": "stream",
     "text": [
      "3\n",
      "16\n"
     ]
    }
   ],
   "source": [
    "# 탑다운\n",
    "t = int(input())\n",
    "\n",
    "dp = [0] * 101\n",
    "dp[0] = dp[1] = dp[2] = dp[3] = 1\n",
    "dp[4] = dp[5] = 2\n",
    "\n",
    "def padovan(n, dp=dp):\n",
    "    if not dp[n]:\n",
    "        dp[n] = padovan(n-1) + padovan(n-5)\n",
    "\n",
    "    return dp[n]\n",
    "        \n",
    "for _ in range(t):\n",
    "    n = int(input())\n",
    "    print(padovan(n))"
   ]
  },
  {
   "cell_type": "code",
   "execution_count": 2,
   "id": "85112be3",
   "metadata": {},
   "outputs": [
    {
     "name": "stdout",
     "output_type": "stream",
     "text": [
      "3\n",
      "16\n"
     ]
    }
   ],
   "source": [
    "# 바텀업\n",
    "t = int(input())\n",
    "dp = []\n",
    "for i in range(100):\n",
    "    if i < 3:\n",
    "        dp.append(1)\n",
    "    elif i < 5:\n",
    "        dp.append(2)\n",
    "    else:\n",
    "        dp.append(dp[i-1] + dp[i-5])\n",
    "\n",
    "for _ in range(t):\n",
    "    print(dp[int(input())-1])"
   ]
  },
  {
   "cell_type": "markdown",
   "id": "2f9972cb",
   "metadata": {},
   "source": [
    "### LIS\n",
    "가장 긴 바이토닉 부분수열, 백준 11054번<br>\n",
    "https://www.acmicpc.net/problem/11054"
   ]
  },
  {
   "cell_type": "code",
   "execution_count": 1,
   "id": "8addb377",
   "metadata": {},
   "outputs": [
    {
     "name": "stdout",
     "output_type": "stream",
     "text": [
      "[1, 2, 2, 1, 3, 3, 4, 5, 2, 1] [1, 2, 3, 3, 3, 4, 1, 2, 5, 1]\n",
      "7\n"
     ]
    }
   ],
   "source": [
    "# 증가 감소(뒤집힌 수열이 증가) 한번에\n",
    "n = int(input())\n",
    "array = list(map(int, input().split()))\n",
    "array_rev = list(reversed(array))\n",
    "\n",
    "dp = []\n",
    "increase = [1] * n\n",
    "decrease = [1] * n\n",
    "for i in range(0, n):\n",
    "    for j in range(0, i):\n",
    "        if array[j] < array[i]:\n",
    "            increase[i] = max(increase[i], increase[j] + 1)\n",
    "\n",
    "        if array_rev[j] < array_rev[i]:\n",
    "            decrease[i] = max(decrease[i], decrease[j] + 1)\n",
    "\n",
    "for i in range(n):\n",
    "    dp.append(increase[i] + decrease[n-i-1] - 1)\n",
    "\n",
    "print(max(dp))"
   ]
  },
  {
   "cell_type": "code",
   "execution_count": 9,
   "id": "dc2bd2ab",
   "metadata": {},
   "outputs": [
    {
     "name": "stdout",
     "output_type": "stream",
     "text": [
      "7\n"
     ]
    }
   ],
   "source": [
    "# 증가 감소(뒤에서 부터 증가) 나눠서\n",
    "n = int(input())\n",
    "array = list(map(int, input().split()))\n",
    "increase = [1 for _ in range(n)]\n",
    "decrease = [1 for _ in range(n)]\n",
    "dp = []\n",
    "\n",
    "# increse\n",
    "for i in range(n):\n",
    "    for j in range(i):\n",
    "        if array[j] < array[i]:\n",
    "            increase[i] = max(increase[i], increase[j] + 1)\n",
    "# decrease\n",
    "for i in range(n-1, -1, -1):\n",
    "    for j in range(n-1, i, -1):\n",
    "        if array[i] > array[j]:\n",
    "            decrease[i] = max(decrease[i], decrease[j] + 1)\n",
    "\n",
    "for i in range(n):\n",
    "    dp.append(increase[i] + decrease[i] - 1)\n",
    "\n",
    "print(max(dp))"
   ]
  }
 ],
 "metadata": {
  "kernelspec": {
   "display_name": "Python 3 (ipykernel)",
   "language": "python",
   "name": "python3"
  },
  "language_info": {
   "codemirror_mode": {
    "name": "ipython",
    "version": 3
   },
   "file_extension": ".py",
   "mimetype": "text/x-python",
   "name": "python",
   "nbconvert_exporter": "python",
   "pygments_lexer": "ipython3",
   "version": "3.9.9"
  },
  "toc": {
   "base_numbering": 1,
   "nav_menu": {},
   "number_sections": true,
   "sideBar": true,
   "skip_h1_title": false,
   "title_cell": "Table of Contents",
   "title_sidebar": "Contents",
   "toc_cell": false,
   "toc_position": {},
   "toc_section_display": true,
   "toc_window_display": false
  }
 },
 "nbformat": 4,
 "nbformat_minor": 5
}
